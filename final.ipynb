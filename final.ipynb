{
 "cells": [
  {
   "cell_type": "code",
   "execution_count": 10,
   "metadata": {},
   "outputs": [],
   "source": [
    "import matplotlib.pyplot as plt\n",
    "%matplotlib inline\n",
    "import numpy as np\n",
    "from matplotlib.colors import LogNorm\n",
    "from numpy import pi, cos,sin\n",
    "import os\n",
    "import re\n",
    "import sys\n",
    "\n",
    "from astropy.io import fits\n",
    "from astropy.coordinates import SkyCoord  # High-level coordinates\n",
    "from astropy.coordinates import ICRS, Galactic, FK4, FK5  # Low-level frames\n",
    "from astropy.coordinates import Angle, Latitude, Longitude  # Angles\n",
    "import astropy.units as u\n",
    "from astropy.time import Time\n",
    "\n",
    "from astroquery import sdss\n",
    "from astroquery.simbad import Simbad \n",
    "from astroquery import sdss\n",
    "from astroquery.skyview import SkyView\n",
    "\n",
    "\n",
    "\n",
    "MODE=1 # only primary\n",
    "# MODE=2 # only secondary\n",
    "\n",
    "nano_maggies_to_Jy = 3631 * 10**-9 # constant of conversion\n",
    "cspeedlight = 2.99792458e-10\n",
    "Jy_to_cgs = 1e-23\n",
    "\n",
    "if not(os.path.isdir('figs')):\n",
    "    os.makedirs('figs')\n",
    "    \n",
    "\n",
    "ra=Angle('0h8m05.63s',unit='hourangle').degree\n",
    "dec=Angle('+14d50m23.3s',unit='hourangle').degree"
   ]
  },
  {
   "cell_type": "code",
   "execution_count": 11,
   "metadata": {
    "tags": [
     "parameters"
    ]
   },
   "outputs": [],
   "source": [
    "name_input = \"Mrk 421\" # name of the object; if empty coordinates are used\n",
    "ra_deg_input = ra  # ra in degree\n",
    "dec_deg_input = dec # dec in degree\n",
    "radius_input = 2.0 # arcmin\n",
    "plotsky_flag= True\n",
    "band='u' #  it can be 'u','g','r','i','z'\n",
    "plotspectrum_flag=True\n",
    "plottime_flag=True"
   ]
  },
  {
   "cell_type": "code",
   "execution_count": null,
   "metadata": {},
   "outputs": [],
   "source": [
    "# this is an example of logic to parse input parameters from name or coordinates\n",
    "#name_input='Mrk5'\n",
    "\n",
    "if name_input == \"\":\n",
    "    ra_degree = ra_deg_input\n",
    "    dec_degree = dec_deg_input\n",
    "else:\n",
    "    result_simbad = Simbad.query_object(name_input, wildcard=True)\n",
    "    ra_unit = result_simbad['RA'].unit\n",
    "    dec_unit = result_simbad['DEC'].unit\n",
    "    ra_simbad = result_simbad['RA'].data[0]\n",
    "    dec_simbad = result_simbad['DEC'].data[0]    \n",
    "    def read_unit(un_in):\n",
    "        import pdb;pdb.set_trace()\n",
    "        if re.search('h:m:s', str(un_in)):\n",
    "            un_out='hourangle'\n",
    "        elif re.search('d:m:s', str(un_in)):\n",
    "            un_out='degree'\n",
    "        else:\n",
    "            sys.exit('unit of RA = ' + str(ra_unit) + ' not implemented')\n",
    "        return un_out\n",
    "    \n",
    "    ra_degree=Angle(ra_simbad,unit=read_unit(ra_unit)).degree\n",
    "    dec_degree=Angle(dec_simbad,unit=read_unit(dec_unit)).degree\n",
    "    \n",
    "source = SkyCoord(ra_degree,dec_degree,unit='degree')\n",
    "radius = Angle(radius_input, unit='arcmin')\n",
    "\n",
    "photoobj_fields=['run', 'rerun','camcol','field','ra','dec','mode',\n",
    "                    'psfFlux_u', 'psfFlux_g', 'psfFlux_r','psfFlux_i','psfFlux_z',\n",
    "                    'psfFluxIvar_u','psfFluxIvar_g','psfFluxIvar_r','psfFluxIvar_i','psfFluxIvar_z',\n",
    "                    'TAI_u', 'TAI_g', 'TAI_r', 'TAI_i', 'TAI_z','objID', 'thingId']\n",
    "\n",
    "query1 = sdss.SDSS.query_region(source, radius=radius,data_release=16, \n",
    "                                photoobj_fields=photoobj_fields)\n",
    "\n",
    "if query1 is not None:\n",
    "    query={}\n",
    "    for k in query1.keys():\n",
    "        query[k]=query1[k].data\n",
    "else:\n",
    "    query=None"
   ]
  },
  {
   "cell_type": "code",
   "execution_count": null,
   "metadata": {},
   "outputs": [],
   "source": [
    "def show_image(qquery,ra_in, dec_in):\n",
    "    img = SkyView.get_images(position=ra_in+','+dec_in,survey=['DSS2 Blue','DSS2 IR','DSS2 Red'],\n",
    "                             pixels=npix,coordinates='J2000',grid=True,gridlabels=True)\n",
    "    b = img[0][0]\n",
    "    g = img[1][0]\n",
    "    r = img[2][0]\n",
    "\n",
    "    bi = (b.data)\n",
    "    ri = (r.data)\n",
    "    gi = (g.data)\n",
    "    fig, ax = plt.subplots(figsize=(10,10))\n",
    "    ax.imshow(bi,interpolation='none',aspect='equal',extent=[b.header['CRVAL1']-(b.header['NAXIS1']-b.header['CRPIX1'])*b.header['CDELT1'],\n",
    "                                                           b.header['CRVAL1']+(b.header['NAXIS1']-b.header['CRPIX1'])*b.header['CDELT1'],\n",
    "                                                           b.header['CRVAL2']+(b.header['NAXIS2']-b.header['CRPIX2'])*b.header['CDELT2'],\n",
    "                                                           b.header['CRVAL2']-(b.header['NAXIS2']-b.header['CRPIX2'])*b.header['CDELT2']])\n",
    "    fig.gca().invert_yaxis()\n",
    "    plt.axvline(ra_in,color='white')\n",
    "    plt.axhline(dec_in,color='white')\n",
    "    plt.scatter(qquery['ra'],qquery['dec'],color='white',alpha=0.5)\n",
    "    plt.tick_params(axis='both', which='major', labelsize=16)\n",
    "    plt.xlabel('RA',fontsize=16)\n",
    "    plt.ylabel('DEC',fontsize=16)\n",
    "    plt.savefig('figs/figure_sky.png')\n",
    "    return\n",
    "\n",
    "show_image(query, ra_degree, dec_degree)"
   ]
  },
  {
   "cell_type": "code",
   "execution_count": 4,
   "metadata": {},
   "outputs": [
    {
     "data": {
      "image/png": "[encoded data removed]",
      "text/plain": [
       "<Figure size 720x738.947 with 2 Axes>"
      ]
     },
     "metadata": {
      "needs_background": "light"
     },
     "output_type": "display_data"
    }
   ],
   "source": [
    "def pplot(qquery, ra_in, dec_in, primary=True):\n",
    "    if qquery==None:\n",
    "        return -1\n",
    "    dec_min=min(qquery['dec'])\n",
    "    dec_max=max(qquery['dec'])\n",
    "    ra_min=min(qquery['ra'])\n",
    "    ra_max=max(qquery['ra'])\n",
    "\n",
    "    pix_size = 1/60./10. # say, one arcmin\n",
    "    dec_mid  = (dec_min + dec_max) / 2.\n",
    "    Nra      = int((ra_max - ra_min) * cos(dec_mid * pi / 180.) / pix_size)\n",
    "    Ndec     = int((dec_max - dec_min) / pix_size)\n",
    "    ra_b     = np.linspace(ra_min, ra_max, Nra)\n",
    "    dec_b    = np.linspace(dec_min, dec_max, Ndec)\n",
    "\n",
    "    fig = plt.figure(figsize=(10.,10.*(Ndec / Nra)))\n",
    "    if primary:\n",
    "        mode=np.where(qquery['mode']==1)[0]\n",
    "    else:\n",
    "        mode = np.range(len(qquery['mode']))\n",
    "    plt.hist2d(qquery['ra'][mode], qquery['dec'][mode], bins=([ra_b, dec_b]), \n",
    "               weights=qquery['psfFlux_'+band][mode], vmax=10, vmin=0)\n",
    "    plt.colorbar()\n",
    "    plt.scatter(query['ra'],query['dec'],alpha=0.2,color='grey')\n",
    "    plt.axhline(dec_in)# dec\n",
    "    plt.axvline(ra_in)# ra\n",
    "    plt.tick_params(axis='both', which='major', labelsize=16)\n",
    "    plt.xlabel('DEC',fontsize=16)\n",
    "    plt.ylabel('RA',fontsize=16)\n",
    "    plt.savefig('figs/figure_sky.png')\n",
    "    return 0\n",
    "\n",
    "flag1=pplot(query, ra_degree, dec_degree)"
   ]
  },
  {
   "cell_type": "code",
   "execution_count": null,
   "metadata": {},
   "outputs": [],
   "source": []
  },
  {
   "cell_type": "code",
   "execution_count": 5,
   "metadata": {},
   "outputs": [
    {
     "data": {
      "image/png": "[encoded data removed]",
      "text/plain": [
       "<Figure size 1524.98x720 with 1 Axes>"
      ]
     },
     "metadata": {
      "needs_background": "light"
     },
     "output_type": "display_data"
    }
   ],
   "source": [
    "\n",
    "def plot_spectrum(qquery):\n",
    "    if qquery==None:\n",
    "        return -1\n",
    "    filters={'u':3543, 'g':4770, 'r': 6231,'i':7625,'z':9134}\n",
    "\n",
    "\n",
    "    # Wavelength (Angstroms)\n",
    "    # Ultraviolet (u) 3543\n",
    "    # Green (g) 4770\n",
    "    # Red (r) 6231\n",
    "    # Near Infrared (i) 7625\n",
    "    # Infrared (z) 9134\n",
    "    plt.figure(figsize=(10.*(1.+np.sqrt(5.)*0.5),10.))\n",
    "    sep=np.array([])\n",
    "    for i in range(len(qquery['run'])):\n",
    "        rai    = qquery['ra'][i]\n",
    "        deci   = qquery['dec'][i]\n",
    "        coordi = SkyCoord(Angle(rai, unit='degree').degree, Angle(deci, unit='degree').degree, unit='deg')\n",
    "        sep=np.append(sep,source.separation(coordi).arcmin)\n",
    "    index=np.argmin(sep)\n",
    "    label=['u','g','r','i','z']\n",
    "    wavelength = np.array([filters[i] for i in label]) # in Angstroem\n",
    "    wavelength = wavelength * 1e-8 # in cm\n",
    "    frequency = cspeedlight / wavelength # in Hz\n",
    "    energy = 4.1357e-15 * frequency # in eV\n",
    "    #energy = 2.0 * np.pi * 6.67e-16 * frequency # in eV\n",
    "    factor = Jy_to_cgs * frequency # conversion from Jy to erg/cm2s\n",
    "    \n",
    "    y1 = np.array([qquery['psfFlux_'+i][index] for i in label]) # in nanomaggies\n",
    "    y1_err = np.array([1.0/np.sqrt(qquery['psfFluxIvar_'+i][index]) for i in label]) # in nanomaggies\n",
    "    \n",
    "    y = y1 * nano_maggies_to_Jy * factor # in erg/cm2s\n",
    "    y_err = y1_err * nano_maggies_to_Jy*factor # in erc/cm2s\n",
    "\n",
    "    plt.semilogy(energy, y)\n",
    "    plt.errorbar(energy, y,y_err,color='black',linewidth=4)\n",
    "    plt.tick_params(axis='both', which='major', labelsize=16)\n",
    "    \n",
    "    plt.xlabel('$E$, [eV]',fontsize=16)\n",
    "    plt.ylabel('$E^2dN/dE$, [erg/(cm$^2$s)]',fontsize=16)\n",
    "\n",
    "    #plt.xlabel('$\\lambda[\\AA]$',fontsize=16)\n",
    "    #plt.ylabel('$flux[Jy]$',fontsize=16)\n",
    "    plt.savefig(\"figs/figure_spectrum.png\")\n",
    "    return 0\n",
    "flag2=plot_spectrum(query)"
   ]
  },
  {
   "cell_type": "code",
   "execution_count": 7,
   "metadata": {},
   "outputs": [
    {
     "data": {
      "image/png": "[encoded data removed]",
      "text/plain": [
       "<Figure size 1524.98x720 with 1 Axes>"
      ]
     },
     "metadata": {
      "needs_background": "light"
     },
     "output_type": "display_data"
    }
   ],
   "source": [
    "def plot_time(qquery):\n",
    "    if qquery==None:\n",
    "        return -1\n",
    "    def MJD(t): # Modified Julian Date format\n",
    "        return t/(24*3600)\n",
    "    sep=np.array([])\n",
    "    for i in range(len(qquery['ra'])):\n",
    "        sep=np.append(sep,source.separation(SkyCoord(qquery['ra'][i],qquery['dec'][i], unit='deg')).deg)\n",
    "    i_min=[np.argmin(sep),]\n",
    "\n",
    "    thingid=query['thingId'][i_min]\n",
    "\n",
    "    ilist=np.where((query['thingId']==thingid)&((query['mode']==1)|(query['mode']==2)))[0]\n",
    "    i_mode1= np.where(query['mode'][ilist]==1)[0]\n",
    "\n",
    "    #print(index)\n",
    "    #print(query['mode'][index])\n",
    "    \n",
    "    plt.figure(figsize=(10.*(1.+np.sqrt(5.)*0.5),10.))\n",
    "    label=['u','g','r','i','z']\n",
    "    colors=['green', 'blue','black','red','magenta']\n",
    "    filters={'u':3543, 'g':4770, 'r': 6231,'i':7625,'z':9134}\n",
    "    wavelength = np.array([filters['key'] for key in filters.keys()])# in Angstroem\n",
    "    factor = Jy_to_cgs * cspeedlight / (wavelength * 1e-8) # converting factor for energy from Jy to erg/cm2s\n",
    "    \n",
    "    x = {}\n",
    "    y = {}\n",
    "    y_err = {}\n",
    "    for ii in ilist:\n",
    "        for j, lab in enumerate(label):\n",
    "            if len(x)<5:\n",
    "                x[lab] = np.array([qquery['TAI_'+lab][ii],])\n",
    "                y[lab] = np.array([qquery['psfFlux_'+lab][ii],]) * nano_maggies_to_Jy * factor[j]\n",
    "                y_err[lab] = np.array([1.0/np.sqrt(qquery['psfFluxIvar_'+lab][ii]),]) * nano_maggies_to_Jy * factor[j]\n",
    "            else:\n",
    "                x[lab] = np.concatenate([x[lab], [qquery['TAI_'+lab][ii],]])\n",
    "                y[lab] = np.concatenate([y[lab], [qquery['psfFlux_'+lab][ii],]]) * nano_maggies_to_Jy * factor[j]\n",
    "                y_err[lab] = np.array([1.0/np.sqrt(qquery['psfFluxIvar_'+lab][ii]),]) * nano_maggies_to_Jy * factor[j]\n",
    "                \n",
    "    t0=np.inf\n",
    "    for i, lab in enumerate(label):\n",
    "        t0 = min([x[lab],t0])\n",
    "    t0=MJD(t0)\n",
    "    print(t0)\n",
    "    \n",
    "    plt.semilogy([], [],data=None)\n",
    "    for i,lab in enumerate(label):\n",
    "        #t=Time(MJD(x[lab]), format='mjd'\n",
    "        #t.format = 'iso'\n",
    "        #t.out_subfmt = 'date_hms'\n",
    "        t = MJD(x[lab])# modified julian date\n",
    "        #plt.scatter(t.value, y[lab],color=colors[i])\n",
    "        plt.scatter(t-t0, y[lab],color=colors[i])\n",
    "        \n",
    "    plt.axvline(MJD(x[lab][i_mode1]))\n",
    "    plt.tick_params(axis='both', which='major', labelsize=16)\n",
    "    plt.xlabel('MJD'+'$[s]$' +'-{:s}'.format(t0),fontsize=16)\n",
    "    plt.ylabel('flux'+'$[Jy]$',fontsize=16)\n",
    "\n",
    "    plt.savefig(\"figs/figure_time.png\")\n",
    "    return 0\n",
    "flag3=plot_time(query)"
   ]
  },
  {
   "cell_type": "code",
   "execution_count": null,
   "metadata": {
    "tags": [
     "outputs"
    ]
   },
   "outputs": [],
   "source": [
    "image1_filename = \"./figs/figure_sky.png\"\n",
    "message1 = 'Completed' if flag1==0 else 'Error'\n",
    "image2_filename = \"./figs/figure_spectrum.png\"\n",
    "message2 = 'Completed' if flag2==0 else 'Error'\n",
    "image3_filename = \"./figs/figure_time.png\"\n",
    "message3 = 'Completed' if flag3==0 else 'Error'"
   ]
  },
  {
   "cell_type": "code",
   "execution_count": null,
   "metadata": {},
   "outputs": [],
   "source": []
  }
 ],
 "metadata": {
  "celltoolbar": "Tags",
  "kernelspec": {
   "display_name": "Python 3",
   "language": "python",
   "name": "python3"
  },
  "language_info": {
   "codemirror_mode": {
    "name": "ipython",
    "version": 3
   },
   "file_extension": ".py",
   "mimetype": "text/x-python",
   "name": "python",
   "nbconvert_exporter": "python",
   "pygments_lexer": "ipython3",
   "version": "3.7.6"
  }
 },
 "nbformat": 4,
 "nbformat_minor": 4
}
