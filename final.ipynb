{
 "cells": [
  {
   "cell_type": "code",
   "execution_count": 1,
   "metadata": {},
   "outputs": [],
   "source": [
    "from astropy.io import fits\n",
    "from astropy.coordinates import SkyCoord  # High-level coordinates\n",
    "from astropy.coordinates import ICRS, Galactic, FK4, FK5  # Low-level frames\n",
    "from astropy.coordinates import Angle, Latitude, Longitude  # Angles\n",
    "import astropy.units as u\n",
    "import matplotlib.pyplot as plt\n",
    "%matplotlib inline\n",
    "import numpy as np\n",
    "from matplotlib.colors import LogNorm\n",
    "from numpy import pi, cos,sin\n",
    "import os\n",
    "import re\n",
    "import urllib.request\n",
    "from astropy.time import Time\n",
    "\n",
    "D_003=132.2 # luminsity distance for z=0.03 this can also come from astropy\n",
    "folderdata='/scratch/garzilli/data/'\n",
    "folderobj = os.path.join(folderdata,'dr16/eboss/photoObj/301/')\n",
    "\n",
    "MODE=1 # only primary\n",
    "# MODE=2 # only secondary"
   ]
  },
  {
   "cell_type": "code",
   "execution_count": 2,
   "metadata": {},
   "outputs": [
    {
     "name": "stdout",
     "output_type": "stream",
     "text": [
      "['/home/astro/garzilli/local/lib/python3.7/site-packages/astroquery-0.4.2.dev6620-py3.7.egg/astroquery']\n"
     ]
    }
   ],
   "source": [
    "import sys\n",
    "import astroquery\n",
    "print(astroquery.__path__)\n",
    "from astroquery.simbad import Simbad \n",
    "from astroquery import sdss"
   ]
  },
  {
   "cell_type": "code",
   "execution_count": 3,
   "metadata": {},
   "outputs": [],
   "source": [
    "from astroquery import sdss"
   ]
  },
  {
   "cell_type": "code",
   "execution_count": 4,
   "metadata": {},
   "outputs": [],
   "source": [
    "result_table = Simbad.query_object(\"Mrk5\", wildcard=True)"
   ]
  },
  {
   "cell_type": "code",
   "execution_count": 12,
   "metadata": {},
   "outputs": [
    {
     "name": "stdout",
     "output_type": "stream",
     "text": [
      "[('MAIN_ID', 'O'), ('RA', '<U13'), ('DEC', '<U13'), ('RA_PREC', '<i2'), ('DEC_PREC', '<i2'), ('COO_ERR_MAJA', '<f4'), ('COO_ERR_MINA', '<f4'), ('COO_ERR_ANGLE', '<i2'), ('COO_QUAL', '<U1'), ('COO_WAVELENGTH', '<U1'), ('COO_BIBCODE', 'O')]\n",
      "    RA    \n",
      " \"h:m:s\"  \n",
      "----------\n",
      "06 42 15.9\n",
      "06 42 15.9\n",
      "06°42′15.9″\n",
      "402.265\n",
      "+75 37 40\n",
      "+75°37′40″\n",
      "4537.666666666666\n"
     ]
    }
   ],
   "source": [
    "print(result_table.dtype)\n",
    "print(result_table['RA'])\n",
    "ra = result_table['RA'].data[0]\n",
    "dec = result_table['DEC'].data[0]\n",
    "print(ra)\n",
    "ra_degree=ra.split(' ')[0]  + '°' + ra.split(' ')[1] + '′' + ra.split(' ')[2] + '″'\n",
    "print(ra_degree)\n",
    "print(Angle(ra_degree).arcmin)\n",
    "print(dec)\n",
    "dec_degree=dec.split(' ')[0]  + '°' + dec.split(' ')[1] + '′' + dec.split(' ')[2] + '″'\n",
    "print(dec_degree)\n",
    "print(Angle(dec_degree).arcmin)\n"
   ]
  },
  {
   "cell_type": "code",
   "execution_count": 13,
   "metadata": {},
   "outputs": [
    {
     "name": "stdout",
     "output_type": "stream",
     "text": [
      "<SkyCoord (ICRS): (ra, dec) in deg\n",
      "    (6.70441667, 75.62777778)>\n",
      "run  rerun camcol ...      TAI_i            TAI_z              objID       \n",
      "---- ----- ------ ... ---------------- ---------------- -------------------\n",
      "1043   301      3 ...  4446601524.6539 4446601668.05923 1237649953859175287\n",
      "1043   301      3 ... 4446601524.50022 4446601667.93843 1237649953859175314\n",
      "1739   301      3 ... 4476758677.53613 4476758820.93709 1237652943176139756\n",
      "1904   301      3 ... 4482278033.48202 4482278176.90448 1237653651835782137\n",
      "1904   301      3 ... 4482278033.64739 4482278177.07344 1237653651835782138\n",
      "533\n"
     ]
    }
   ],
   "source": [
    "co = SkyCoord(ra_degree+' '+dec_degree)\n",
    "print(co)\n",
    "#co = SkyCoord(Angle(ra_degree).degree,Angle(dec_degree).degree, unit='deg')\n",
    "#print(co)\n",
    "coordinate='0h8m05.63s +14d50m23.3s'\n",
    "co = SkyCoord(coordinate)\n",
    "radius = Angle(2, unit='arcmin')\n",
    "\n",
    "\n",
    "query1 = sdss.SDSS.query_region(co, radius=radius,data_release=16, \n",
    "                                photoobj_fields=['run', 'rerun','camcol','field','ra','dec','mode',\n",
    "                                                 'petroFlux_u', 'petroFlux_g', 'petroFlux_r','petroFlux_i','petroFlux_z',\n",
    "                                                 'TAI_u', 'TAI_g', 'TAI_r', 'TAI_i', 'TAI_z','objID'])\n",
    "print(query1[:5])\n",
    "print(len(query1))\n",
    "query={}\n",
    "for k in query1.keys():\n",
    "    query[k]=query1[k].data\n",
    "    "
   ]
  },
  {
   "cell_type": "code",
   "execution_count": 14,
   "metadata": {},
   "outputs": [
    {
     "name": "stdout",
     "output_type": "stream",
     "text": [
      "mode1:95\n",
      "mode2:208\n",
      "mode3:92\n",
      "mode4:138\n",
      "533\n"
     ]
    }
   ],
   "source": [
    "mode1_index=np.where(query['mode']==1)[0]\n",
    "mode1={}\n",
    "for k in query.keys():\n",
    "    mode1[k]=query[k][mode1_index]\n",
    "#print(mode1_index)\n",
    "print('mode1:'+'{:d}'.format(len(mode1['ra'])))\n",
    "\n",
    "mode2_index=np.where(query['mode']==2)[0]\n",
    "mode2={}\n",
    "for k in query.keys():\n",
    "    mode2[k]=query[k][mode2_index]\n",
    "#print(mode2_index)\n",
    "print('mode2:'+'{:d}'.format(len(mode2['ra'])))\n",
    "\n",
    "mode3_index=np.where(query['mode']==3)[0]\n",
    "mode3={}\n",
    "for k in query.keys():\n",
    "    mode3[k]=query[k][mode3_index]\n",
    "#print(mode3_index)\n",
    "print('mode3:'+'{:d}'.format(len(mode3['ra'])))\n",
    "\n",
    "mode4_index=np.where(query['mode']==4)[0]\n",
    "mode4={}\n",
    "for k in query.keys():\n",
    "    mode4[k]=query[k][mode4_index]\n",
    "#print(mode4_index)\n",
    "print('mode4:'+'{:d}'.format(len(mode4['ra'])))\n",
    "\n",
    "print(len(mode1['ra'])+len(mode2['ra'])+len(mode3['ra'])+len(mode4['ra']))"
   ]
  },
  {
   "cell_type": "code",
   "execution_count": 16,
   "metadata": {},
   "outputs": [
    {
     "data": {
      "image/png": "[encoded data removed]",
      "text/plain": [
       "<Figure size 720x738.947 with 2 Axes>"
      ]
     },
     "metadata": {
      "needs_background": "light"
     },
     "output_type": "display_data"
    }
   ],
   "source": [
    "def pplot(rresult, primary=True):\n",
    "    dec_min=min(rresult['dec'])\n",
    "    dec_max=max(rresult['dec'])\n",
    "    ra_min=min(rresult['ra'])\n",
    "    ra_max=max(rresult['ra'])\n",
    "\n",
    "    pix_size = 1/60./10. # say, one arcmin\n",
    "    dec_mid  = (dec_min + dec_max) / 2.\n",
    "    Nra      = int((ra_max - ra_min) * cos(dec_mid * pi / 180.) / pix_size)\n",
    "    Ndec     = int((dec_max - dec_min) / pix_size)\n",
    "    ra_b     = np.linspace(ra_min, ra_max, Nra)\n",
    "    dec_b    = np.linspace(dec_min, dec_max, Ndec)\n",
    "\n",
    "\n",
    "    fig = plt.figure(figsize=(10.,10.*(Ndec / Nra)))\n",
    "    if primary:\n",
    "        mode=np.where(rresult['mode']==1)[0]\n",
    "    else:\n",
    "        mode = np.range(len(rresult['mode']))\n",
    "    plt.hist2d(rresult['ra'][mode], rresult['dec'][mode], bins=([ra_b, dec_b]), weights=rresult['petroFlux_u'][mode], vmax=10, vmin=0)\n",
    "    plt.colorbar()\n",
    "    plt.axhline(Angle(coordinate.split(' ')[1],unit='deg').deg)# dec\n",
    "    plt.axvline(Angle(coordinate.split(' ')[0],unit='deg').deg)# ra\n",
    "    plt.xlabel('DEC')\n",
    "    plt.ylabel('RA')\n",
    "    return\n",
    "\n",
    "pplot(query)"
   ]
  },
  {
   "cell_type": "code",
   "execution_count": 17,
   "metadata": {},
   "outputs": [],
   "source": [
    "filters={'u':3543, 'g':4770, 'r': 6231,'i':7625,'z':9134}\n",
    "\n",
    "nano_maggies_to_Jy = 3631 * 10**-9 # constant of conversion\n",
    "\n",
    "# Wavelength (Angstroms)\n",
    "# Ultraviolet (u) 3543\n",
    "# Green (g) 4770\n",
    "# Red (r) 6231\n",
    "# Near Infrared (i) 7625\n",
    "# Infrared (z) 9134"
   ]
  },
  {
   "cell_type": "code",
   "execution_count": 18,
   "metadata": {},
   "outputs": [
    {
     "name": "stdout",
     "output_type": "stream",
     "text": [
      "[3543 4770 6231 7625 9134]\n",
      "[3.09235204e-06 2.54958072e-06 6.18356032e-06 8.86018102e-06\n",
      " 4.74273232e-05]\n"
     ]
    },
    {
     "data": {
      "image/png": "[encoded data removed]",
      "text/plain": [
       "<Figure size 432x288 with 1 Axes>"
      ]
     },
     "metadata": {
      "needs_background": "light"
     },
     "output_type": "display_data"
    }
   ],
   "source": [
    "plt.figure()\n",
    "index = 15\n",
    "label=['u','g','r','i','z']\n",
    "x = np.array([filters[i] for i in label])\n",
    "y1 = np.array([query['petroFlux_'+i][index] for i in label]) # in nanomaggies\n",
    "y = y1 * nano_maggies_to_Jy # in Jy\n",
    "plt.semilogy(x, y)\n",
    "plt.scatter(x,y)\n",
    "plt.xlabel('$\\lambda[\\AA]$')\n",
    "plt.ylabel('$flux[Jy]$')\n",
    "print(x)\n",
    "print(y)"
   ]
  },
  {
   "cell_type": "code",
   "execution_count": 57,
   "metadata": {},
   "outputs": [
    {
     "name": "stdout",
     "output_type": "stream",
     "text": [
      "{'u': array([4.44609009e+09]), 'g': array([4.44609023e+09]), 'r': array([4.44608995e+09]), 'i': array([4.44609002e+09]), 'z': array([4.44609016e+09])}\n",
      "{'u': array([0.00033952]), 'g': array([0.00125721]), 'r': array([0.00242644]), 'i': array([0.00352887]), 'z': array([0.00465913])}\n"
     ]
    },
    {
     "data": {
      "image/png": "[encoded data removed]",
      "text/plain": [
       "<Figure size 1524.98x720 with 1 Axes>"
      ]
     },
     "metadata": {
      "needs_background": "light"
     },
     "output_type": "display_data"
    }
   ],
   "source": [
    "def MJD(t): # Modified Julian Date format\n",
    "    return t/(24*3600)\n",
    "source=SkyCoord(coordinate,unit='deg')\n",
    "sep=np.array([])\n",
    "for i in range(len(query['ra'])):\n",
    "    sep=np.append(sep,source.separation(SkyCoord(query['ra'][i],query['dec'][i], unit='deg')))\n",
    "i_min=[np.argmin(sep),]\n",
    "\n",
    "plt.figure(figsize=(10.*(1.+np.sqrt(5.)*0.5),10.))\n",
    "label=['u','g','r','i','z']\n",
    "colors=['green', 'blue','black','red','magenta']\n",
    "x = {}\n",
    "y= {}\n",
    "for ii in i_min:\n",
    "    for lab in label:\n",
    "        try:\n",
    "            x[lab] = np.concatenate(x[lab], query['TAI_'+lab][ii])\n",
    "            y[lab] = np.concatenate(y[lab], query['petroFlux_'+lab][ii])*nano_maggies_to_Jy\n",
    "        except KeyError:\n",
    "            x[lab] = np.array([query['TAI_'+lab][ii],])\n",
    "            y[lab] = np.array([query['petroFlux_'+lab][ii],])*nano_maggies_to_Jy\n",
    "plt.semilogy([], [],data=None)\n",
    "for i,lab in enumerate(label):\n",
    "    t=Time(MJD(x[lab]), format='mjd')\n",
    "    t.format = 'iso'\n",
    "    t.out_subfmt = 'date_hms'\n",
    "    plt.scatter(t.value, y[lab],color=colors[i])\n",
    "    # plt.scatter(MJD(x[lab]), y[lab],color=colors[i])\n",
    "    plt.xlabel('$time[s]$')\n",
    "    plt.ylabel('$flux[Jy]$')\n",
    "print(x)\n",
    "print(y)"
   ]
  },
  {
   "cell_type": "code",
   "execution_count": 27,
   "metadata": {},
   "outputs": [
    {
     "name": "stdout",
     "output_type": "stream",
     "text": [
      "{'run': 1011, 'rerun': 301, 'camcol': 3, 'field': 44, 'id': 124, 'first_field': 0, 'sky_version': 2}\n",
      "ra = 2.023\n",
      "dec = 14.840\n"
     ]
    }
   ],
   "source": [
    "def objid_extract(obj_id):\n",
    "    masks={'sky_version':0x7800000000000000,\n",
    "           'rerun':0x07FF000000000000,\n",
    "           'run':0x0000FFFF00000000,\n",
    "           'camcol':0x00000000E0000000,\n",
    "           'first_field':0x0000000010000000,\n",
    "           'field':0x000000000FFF0000,\n",
    "           'id':0x000000000000FFFF}\n",
    "\n",
    "    run=(obj_id & masks['run']) >> 32\n",
    "    rerun=(obj_id & masks['rerun']) >> 48\n",
    "    camcol=(obj_id & masks['camcol']) >> 29\n",
    "    field=(obj_id & masks['field']) >> 16\n",
    "    id=(obj_id & masks['id']) >> 0\n",
    "    sky_version=(obj_id & masks['sky_version']) >> 59\n",
    "    first_field=(obj_id & masks['first_field']) >> 28\n",
    "\n",
    "    return {'run':run,\n",
    "            'rerun':rerun,\n",
    "            'camcol':camcol,\n",
    "            'field':field,\n",
    "            'id':id,\n",
    "            'first_field':first_field,\n",
    "            'sky_version':sky_version}\n",
    "\n",
    "print(objid_extract(query['objID'][i_min[0]]))\n",
    "print('ra = ' + '{:.3f}'.format(query['ra'][i_min[0]]))\n",
    "print('dec = ' + '{:.3f}'.format(query['dec'][i_min[0]]))\n"
   ]
  },
  {
   "cell_type": "code",
   "execution_count": 50,
   "metadata": {},
   "outputs": [
    {
     "name": "stdout",
     "output_type": "stream",
     "text": [
      "[51459.37605238]\n",
      "['1999-10-08 09:01:30.926']\n"
     ]
    }
   ],
   "source": [
    "\n",
    "t=Time(MJD(x['u']), format='mjd')\n",
    "print(t.value)\n",
    "t.format = 'iso'\n",
    "t.out_subfmt = 'date_hms'\n",
    "print(t.value)"
   ]
  },
  {
   "cell_type": "code",
   "execution_count": null,
   "metadata": {},
   "outputs": [],
   "source": []
  }
 ],
 "metadata": {
  "kernelspec": {
   "display_name": "Python 3",
   "language": "python",
   "name": "python3"
  },
  "language_info": {
   "codemirror_mode": {
    "name": "ipython",
    "version": 3
   },
   "file_extension": ".py",
   "mimetype": "text/x-python",
   "name": "python",
   "nbconvert_exporter": "python",
   "pygments_lexer": "ipython3",
   "version": "3.7.1"
  }
 },
 "nbformat": 4,
 "nbformat_minor": 2
}
