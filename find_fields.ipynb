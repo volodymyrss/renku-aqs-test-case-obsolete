{
 "cells": [
  {
   "cell_type": "code",
   "execution_count": 8,
   "metadata": {},
   "outputs": [],
   "source": [
    "from astropy.io import fits\n",
    "from astropy.coordinates import SkyCoord  # High-level coordinates\n",
    "from astropy.coordinates import ICRS, Galactic, FK4, FK5  # Low-level frames\n",
    "from astropy.coordinates import Angle, Latitude, Longitude  # Angles\n",
    "import astropy.units as u\n",
    "import matplotlib.pyplot as plt\n",
    "%matplotlib inline\n",
    "import numpy as np\n",
    "from matplotlib.colors import LogNorm\n",
    "from numpy import pi, cos,sin\n",
    "import os\n",
    "import re\n",
    "import urllib.request\n",
    "D_003=132.2 # luminsity distance for z=0.03 this can also come from astropy\n",
    "folderdata='/scratch/garzilli/data/'\n",
    "folderobj = os.path.join(folderdata,'dr16/eboss/photoObj/301/')\n",
    "\n",
    "# MODE=1 # only primary\n",
    "MODE=2 # only secondary"
   ]
  },
  {
   "cell_type": "code",
   "execution_count": 2,
   "metadata": {},
   "outputs": [],
   "source": [
    "# Here is the source of interest as an example: \n",
    "\n",
    "#Mrk 421\n",
    "#RA_s=166.113808\n",
    "#DEC_s=38.208833\t\n",
    "#z_s=0.03\n",
    "\n",
    "\n",
    "#R_s=z_s*D_003/0.03\n",
    "#X_s=R_s*cos(DEC_s*pi/180.)\n",
    "#H_s=0.\n",
    "#H_s=R_s*sin(DEC_s*pi/180.)radius=0.1 # in gradi\n",
    "\n",
    "#ra_in = 94.929341\n",
    "#dec_in = 2.488812\n",
    "# source\n",
    "ra_in  = 17\n",
    "dec_in = -3.38\n",
    "source = SkyCoord(ra_in,dec_in, unit='deg')\n",
    "radius = 100 # in arcmin"
   ]
  },
  {
   "cell_type": "code",
   "execution_count": 3,
   "metadata": {},
   "outputs": [],
   "source": [
    "ra     = np.array([])\n",
    "raMin  = np.array([])\n",
    "raMax  = np.array([])\n",
    "dec    = np.array([])\n",
    "decMin = np.array([])\n",
    "decMax = np.array([])\n",
    "field  = np.array([], dtype='int')\n",
    "camcol = np.array([], dtype='int')\n",
    "run    = np.array([], dtype='int')\n",
    "\n",
    "for dd in os.listdir(folderobj):\n",
    "    for ff in os.listdir(os.path.join(folderobj, dd)):\n",
    "        if re.search('photoField',ff):\n",
    "            ffull=os.path.join(folderobj,os.path.join(dd,ff))\n",
    "            with fits.open(ffull) as hdu:\n",
    "                ra     = np.append(ra, np.copy(hdu[1].data['RA']))\n",
    "                raMin  = np.append(raMin, np.copy(hdu[1].data['raMin']))\n",
    "                raMax  = np.append(raMax, np.copy(hdu[1].data['raMax']))\n",
    "                dec    = np.append(dec, np.copy(hdu[1].data['dec']))\n",
    "                decMin = np.append(decMin, np.copy(hdu[1].data['decMin']))\n",
    "                decMax = np.append(decMax, np.copy(hdu[1].data['decMin']))\n",
    "                field  = np.append(field, np.copy(hdu[1].data['field']))\n",
    "                camcol = np.append(camcol, np.copy(hdu[1].data['camcol']))\n",
    "                run    = np.append(run, np.copy(hdu[1].data['run']))\n",
    "\n",
    "ci = SkyCoord(ra, dec, unit='deg')\n",
    "sep=source.separation(ci)\n",
    "\n",
    "indexFrame = np.where(sep.arcmin<radius)[0]\n",
    "#print(indexFrame)\n",
    "par = []\n",
    "for ii in indexFrame:\n",
    "    par.append({'field':field[ii],'camcol':camcol[ii],'run':run[ii],\n",
    "                   'ra':ra[ii], 'dec':dec[ii],\n",
    "                    'raMin':raMin[ii], 'decMin':decMin[ii],\n",
    "                    'raMax':raMax[ii], 'decMax':decMax[ii]}) \n",
    "#print(par)\n",
    "\n",
    "for ii, p in enumerate(par):\n",
    "    folderff = os.path.join(os.path.join(folderobj,'{:d}'.format(p['run'])),'{:d}'.format(p['camcol']))\n",
    "    ff = (r'photoObj-'+'{:06d}'.format(p['run'])+r'-'+'{:d}'.format(p['camcol'])+\n",
    "          r'-'+'{:04d}'.format(p['field'])+r'.fits')\n",
    "    par[ii]['photoObj_path'] = os.path.join(folderff,ff)\n"
   ]
  },
  {
   "cell_type": "code",
   "execution_count": 4,
   "metadata": {},
   "outputs": [],
   "source": [
    "# with fits.open(os.path.join(folderdata,'photoRunAll-dr16.fits')) as hdu:\n",
    "#     ra_all  = hdu[1].data['NODE']\n",
    "#     dec_all = hdu[1].data['INCL']\n",
    "#     dec_all[np.where((dec_all>90))[0]]=90\n",
    "#     c_all   = SkyCoord(ra_all,dec_all, unit='deg')\n",
    "#     sep_all = source.separation(c_all)\n",
    "#     index   = np.where(sep_all.arcmin<1000)\n",
    "    \n",
    "#     run_all = hdu[1].data['run'][index]\n",
    "#     #lF_all  = hdu[1].data['lastField'][index]\n",
    "#     print(run_all)\n",
    "#     print(index)\n",
    "\n"
   ]
  },
  {
   "cell_type": "code",
   "execution_count": 5,
   "metadata": {},
   "outputs": [
    {
     "data": {
      "text/plain": [
       "<matplotlib.lines.Line2D at 0x7fbd81d1cac8>"
      ]
     },
     "execution_count": 5,
     "metadata": {},
     "output_type": "execute_result"
    },
    {
     "data": {
      "image/png": "[encoded data removed]",
      "text/plain": [
       "<Figure size 720x278.511 with 2 Axes>"
      ]
     },
     "metadata": {
      "needs_background": "light"
     },
     "output_type": "display_data"
    }
   ],
   "source": [
    "RA_plot      = np.array([])\n",
    "DEC_plot     = np.array([])\n",
    "PSFFLUX_plot = np.array([])\n",
    "# this can give problems on the borders\n",
    "ra_min       = np.inf\n",
    "ra_max       = -np.inf\n",
    "dec_min      = np.inf\n",
    "dec_max      = -np.inf\n",
    "for i,p in enumerate(par):\n",
    "    ff=p['photoObj_path']\n",
    "    with fits.open(ff) as hdul:\n",
    "        #print(hdul.info())\n",
    "        cat          = hdul[1].data\n",
    "        mode         = np.copy(cat['MODE'])\n",
    "        j = np.where(mode==MODE)\n",
    "        RAi          = np.copy(cat['RA'])[j]\n",
    "        DECi         = np.copy(cat['DEC'])[j]\n",
    "        PSFFLUXi     = np.copy(cat['PSFFLUX'])[j]\n",
    "        RA_plot      = np.append(RAi, RA_plot)\n",
    "        DEC_plot     = np.append(DECi, DEC_plot)\n",
    "        ra_min       = np.min([ra_min,p['raMin']])\n",
    "        ra_max       = np.max([ra_max,p['raMax']])\n",
    "        dec_min       = np.min([dec_min,p['decMin']])\n",
    "        dec_max       = np.max([dec_max,p['decMax']])\n",
    "        \n",
    "        if i==0:\n",
    "            PSFFLUX_plot = PSFFLUXi\n",
    "        else:\n",
    "            PSFFLUX_plot = np.concatenate((PSFFLUXi, PSFFLUX_plot))\n",
    "\n",
    "\n",
    "\n",
    "# ra_min   = np.amin([np.amin(RA_plot),ra_in])\n",
    "# ra_max   = np.amax([np.amax(RA_plot),ra_in])\n",
    "# print(ra_min)\n",
    "# print(ra_max)\n",
    "# dec_min  = np.amin(DEC_plot)\n",
    "# dec_max  = np.amax(DEC_plot)\n",
    "pix_size = 1/60./10. # say, one arcmin\n",
    "dec_mid  = (dec_min + dec_max) / 2.\n",
    "Nra      = int((ra_max - ra_min) * cos(dec_mid * pi / 180.) / pix_size)\n",
    "Ndec     = int((dec_max - dec_min) / pix_size)\n",
    "ra_b     = np.linspace(ra_min, ra_max, Nra)\n",
    "dec_b    = np.linspace(dec_min, dec_max, Ndec)\n",
    "\n",
    "\n",
    "fig = plt.figure(figsize=(10.,10.*(Ndec / Nra)))\n",
    "plt.hist2d(RA_plot, DEC_plot, bins=([ra_b, dec_b]), weights=PSFFLUX_plot[:,4], vmax=10, vmin=0)\n",
    "plt.colorbar()\n",
    "plt.axhline(dec_in)\n",
    "plt.axvline(ra_in)\n",
    "#plt.xlim(RA_s-0.1,RA_s+0.1)\n",
    "#plt.ylim(DEC_s-0.1,DEC_s+0.1)\n"
   ]
  },
  {
   "cell_type": "code",
   "execution_count": 26,
   "metadata": {},
   "outputs": [
    {
     "name": "stdout",
     "output_type": "stream",
     "text": [
      "coord : 00 42 44.330+41 16 07.50 (IR  ) [~ ~ ] C 2006AJ....131.1163S\n",
      "00°42′44.330″\n",
      "41°16′07.50″\n",
      "in arcmin\n",
      "42.738833333333325\n",
      "2476.125\n",
      "in degree\n",
      "0.7123138888888888\n",
      "41.26875\n"
     ]
    }
   ],
   "source": [
    "with urllib.request.urlopen('http://simbad.u-strasbg.fr/simbad/sim-script?script=M31') as response:\n",
    "   html = response.read().decode(\"utf-8\")\n",
    "#print(html)\n",
    "ll=html.split('\\n')\n",
    "for line in ll:\n",
    "    if re.search(\"coord\",line):\n",
    "        lline = line.split(' : ')[1]\n",
    "        line1 = lline.split('+')[0]\n",
    "        line2 = lline.split('+')[1]\n",
    "        ra_deg = line1.split()[0]\n",
    "        ra_min = line1.split()[1]\n",
    "        ra_sec = line1.split()[2]\n",
    "        dec_deg = line2.split()[0]\n",
    "        dec_min = line2.split()[1]\n",
    "        dec_sec = line2.split()[2]\n",
    "        ra_angle  = ra_deg  + '°' + ra_min  + '′' + ra_sec + '″'\n",
    "        dec_angle = dec_deg + '°' + dec_min + '′' + dec_sec + '″'\n",
    "        \n",
    "        print(line)\n",
    "        print(ra_angle)\n",
    "        print(dec_angle)\n",
    "        print('in arcmin')\n",
    "        print(Angle(ra_angle).arcmin)\n",
    "        print(Angle(dec_angle).arcmin)\n",
    "        print('in degree')\n",
    "        print(Angle(ra_angle).degree)\n",
    "        print(Angle(dec_angle).degree)"
   ]
  },
  {
   "cell_type": "code",
   "execution_count": null,
   "metadata": {},
   "outputs": [],
   "source": []
  }
 ],
 "metadata": {
  "kernelspec": {
   "display_name": "Python 3",
   "language": "python",
   "name": "python3"
  },
  "language_info": {
   "codemirror_mode": {
    "name": "ipython",
    "version": 3
   },
   "file_extension": ".py",
   "mimetype": "text/x-python",
   "name": "python",
   "nbconvert_exporter": "python",
   "pygments_lexer": "ipython3",
   "version": "3.7.1"
  }
 },
 "nbformat": 4,
 "nbformat_minor": 2
}
