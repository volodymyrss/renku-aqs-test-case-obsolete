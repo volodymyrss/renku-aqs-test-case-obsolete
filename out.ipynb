{
 "cells": [
  {
   "cell_type": "code",
   "execution_count": null,
   "id": "cooperative-contemporary",
   "metadata": {
    "papermill": {
     "duration": null,
     "end_time": null,
     "exception": null,
     "start_time": null,
     "status": "completed"
    },
    "tags": []
   },
   "outputs": [],
   "source": [
    "import matplotlib.pyplot as plt\n",
    "%matplotlib inline\n",
    "import numpy as np\n",
    "from matplotlib.colors import LogNorm\n",
    "from numpy import pi, cos,sin\n",
    "from astropy.wcs import WCS\n",
    "import os\n",
    "import re\n",
    "\n",
    "from astropy.io import fits\n",
    "from astropy.coordinates import SkyCoord  # High-level coordinates\n",
    "from astropy.coordinates import ICRS, Galactic, FK4, FK5  # Low-level frames\n",
    "from astropy.coordinates import Angle, Latitude, Longitude  # Angles\n",
    "import astropy.units as u\n",
    "from astropy.time import Time\n",
    "\n",
    "from astroquery import sdss\n",
    "from astroquery.simbad import Simbad \n",
    "from astroquery import sdss\n",
    "from astroquery.skyview import SkyView\n",
    "\n",
    "nano_maggies_to_Jy = 3.631e-6 # constant of conversion\n",
    "\n",
    "if not(os.path.isdir('figs')):\n",
    "    os.makedirs('figs')\n",
    "    "
   ]
  },
  {
   "cell_type": "code",
   "execution_count": null,
   "id": "integral-parade",
   "metadata": {
    "papermill": {
     "duration": null,
     "end_time": null,
     "exception": null,
     "start_time": null,
     "status": "completed"
    },
    "tags": [
     "parameters"
    ]
   },
   "outputs": [],
   "source": [
    "name_input = \"Mrk 421\" # name of the object; if empty coordinates are used\n",
    "ra_deg_input = 166.113808  # ra in degree\n",
    "dec_deg_input = 38.208833 # dec in degree\n",
    "radius_input = 3.0 # arcmin\n",
    "plotsky_flag= True\n",
    "band='u' #  it can be 'u','g','r','i','z'\n",
    "plotspectrum_flag=True\n",
    "plottime_flag=True\n",
    "\n",
    "\n"
   ]
  },
  {
   "cell_type": "code",
   "execution_count": null,
   "id": "legitimate-selling",
   "metadata": {
    "papermill": {
     "duration": null,
     "end_time": null,
     "exception": null,
     "start_time": null,
     "status": "completed"
    },
    "tags": []
   },
   "outputs": [],
   "source": [
    "npix=int(2*radius_input*60.) # if image is from SkyView service, pixels will be 1''\n",
    "npix=str(npix)+','+str(npix)\n",
    "MODE=1 # only primary  MODE=2 is only secondary\n",
    "pix_size=1 #pixel size in arcmin\n",
    "\n",
    "\n",
    "\n"
   ]
  },
  {
   "cell_type": "code",
   "execution_count": null,
   "id": "violent-knight",
   "metadata": {
    "papermill": {
     "duration": null,
     "end_time": null,
     "exception": null,
     "start_time": null,
     "status": "completed"
    },
    "tags": []
   },
   "outputs": [],
   "source": [
    "if name_input == \"\":\n",
    "    ra_degree = ra_deg_input\n",
    "    dec_degree = dec_deg_input\n",
    "else:\n",
    "    result_simbad = Simbad.query_object(name_input, wildcard=True)\n",
    "    ra_simbad = result_simbad['RA'].data[0] # here it is a string!\n",
    "    dec_simbad = result_simbad['DEC'].data[0]\n",
    "    ra_degree=Angle(ra_simbad,unit='hourangle').degree\n",
    "    dec_degree=Angle(dec_simbad,unit='deg').degree\n",
    "    \n",
    "source = SkyCoord(ra_degree,dec_degree,unit='degree')\n",
    "radius = Angle(radius_input, unit='arcmin')\n",
    "\n",
    "photoobj_fields=['run', 'rerun','camcol','field','ra','dec','mode',\n",
    "                    'psfFlux_u', 'psfFlux_g','psfFlux_r','psfFlux_i','psfFlux_z',\n",
    "                 'psfFluxIvar_u','psfFluxIvar_g','psfFluxIvar_r','psfFluxIvar_i','psfFluxIvar_z',\n",
    "                    'TAI_u', 'TAI_g', 'TAI_r', 'TAI_i', 'TAI_z','objID', 'thingId']\n",
    "\n",
    "query1 = sdss.SDSS.query_region(source, radius=radius,data_release=16,photoobj_fields=photoobj_fields)\n",
    "\n",
    "if query1 is not None:\n",
    "    query={}\n",
    "    for k in query1.keys():\n",
    "        query[k]=query1[k].data\n",
    "else:\n",
    "    query=None"
   ]
  },
  {
   "cell_type": "code",
   "execution_count": null,
   "id": "proof-filing",
   "metadata": {
    "papermill": {
     "duration": null,
     "end_time": null,
     "exception": null,
     "start_time": null,
     "status": "completed"
    },
    "tags": []
   },
   "outputs": [],
   "source": [
    "# Some logic is needed to establish relation between \"DSS2 blue\" and \"u\" etc\n",
    "img = SkyView.get_images(position=ra_simbad+','+dec_simbad,survey=['DSS2 Blue','DSS2 IR','DSS2 Red'],pixels=npix,coordinates='J2000',grid=True,gridlabels=True)"
   ]
  },
  {
   "cell_type": "code",
   "execution_count": null,
   "id": "integral-belle",
   "metadata": {
    "papermill": {
     "duration": null,
     "end_time": null,
     "exception": null,
     "start_time": null,
     "status": "completed"
    },
    "tags": []
   },
   "outputs": [],
   "source": [
    "b = img[0][0]\n",
    "g = img[1][0]\n",
    "r = img[2][0]\n",
    "\n",
    "bi = (b.data)\n",
    "ri = (r.data)\n",
    "gi = (g.data)\n",
    "\n"
   ]
  },
  {
   "cell_type": "code",
   "execution_count": null,
   "id": "demographic-taste",
   "metadata": {
    "papermill": {
     "duration": null,
     "end_time": null,
     "exception": null,
     "start_time": null,
     "status": "completed"
    },
    "tags": []
   },
   "outputs": [],
   "source": [
    "fig, ax = plt.subplots(figsize=(10,10))\n",
    "ax.imshow(bi,interpolation='none',aspect='equal',extent=[b.header['CRVAL1']-(b.header['NAXIS1']-b.header['CRPIX1'])*b.header['CDELT1'],\n",
    "                                                           b.header['CRVAL1']+(b.header['NAXIS1']-b.header['CRPIX1'])*b.header['CDELT1'],\n",
    "                                                           b.header['CRVAL2']+(b.header['NAXIS2']-b.header['CRPIX2'])*b.header['CDELT2'],\n",
    "                                                           b.header['CRVAL2']-(b.header['NAXIS2']-b.header['CRPIX2'])*b.header['CDELT2']])\n",
    "fig.gca().invert_yaxis()\n",
    "plt.axvline(ra_degree,color='white')\n",
    "plt.axhline(dec_degree,color='white')\n",
    "plt.scatter(query['ra'],query['dec'],color='white',alpha=0.5)\n",
    "plt.tick_params(axis='both', which='major', labelsize=16)\n",
    "plt.xlabel('RA',fontsize=16)\n",
    "plt.ylabel('DEC',fontsize=16)\n",
    "plt.savefig('figs/figure_sky.png')\n",
    "\n",
    "\n",
    "\n"
   ]
  },
  {
   "cell_type": "code",
   "execution_count": null,
   "id": "aware-brook",
   "metadata": {
    "papermill": {
     "duration": null,
     "end_time": null,
     "exception": null,
     "start_time": null,
     "status": "completed"
    },
    "tags": []
   },
   "outputs": [],
   "source": [
    "dec_min=b.header['CRVAL2']-(b.header['NAXIS2']-b.header['CRPIX2'])*b.header['CDELT2']\n",
    "dec_max=b.header['CRVAL2']+(b.header['NAXIS2']-b.header['CRPIX2'])*b.header['CDELT2']\n",
    "ra_max=b.header['CRVAL1']-(b.header['NAXIS1']-b.header['CRPIX1'])*b.header['CDELT1']\n",
    "ra_min=b.header['CRVAL1']+(b.header['NAXIS1']-b.header['CRPIX1'])*b.header['CDELT1']\n",
    "print(ra_min,ra_max,dec_min,dec_max)"
   ]
  },
  {
   "cell_type": "code",
   "execution_count": null,
   "id": "sharp-alcohol",
   "metadata": {
    "papermill": {
     "duration": null,
     "end_time": null,
     "exception": null,
     "start_time": null,
     "status": "completed"
    },
    "tags": []
   },
   "outputs": [],
   "source": [
    "# different representation of the images, in terms of \"deconvolved\" flux from sources:\n",
    "pix_size=0.1\n",
    "def pplot(qquery, primary=True):\n",
    "    if qquery==None:\n",
    "        return -1\n",
    "    Nra      = int((ra_max-ra_min)*cos(dec_degree*pi/180.) / (pix_size/60.))\n",
    "    Ndec     = int((dec_max-dec_min)/(pix_size/60.))\n",
    "    ra_b     = np.linspace(ra_min, ra_max, Nra)\n",
    "    dec_b    = np.linspace(dec_min, dec_max, Ndec)\n",
    "\n",
    "    fig = plt.figure(figsize=(12,10))\n",
    "    if primary:\n",
    "        mode=np.where(qquery['mode']==1)[0]\n",
    "    else:\n",
    "        mode = np.range(len(qquery['mode']))\n",
    "    w=qquery['psfFlux_'+band][mode]*nano_maggies_to_Jy\n",
    "\n",
    "    plt.hist2d(qquery['ra'][mode], qquery['dec'][mode], bins=([ra_b, dec_b]), \n",
    "               weights=w,norm=LogNorm())\n",
    "    plt.colorbar()\n",
    "    plt.scatter(query['ra'],query['dec'],alpha=0.5,color='red')\n",
    "    plt.axhline(dec_degree)# dec\n",
    "    plt.axvline(ra_degree)# ra\n",
    "    plt.tick_params(axis='both', which='major', labelsize=16)\n",
    "    plt.xlabel('RA',fontsize=16)\n",
    "    plt.ylabel('DEC',fontsize=16)\n",
    "\n",
    "    plt.gca().invert_xaxis()\n",
    "    plt.savefig('figs/figure_sky_model.png')\n",
    "    return 0\n",
    "\n",
    "flag1=pplot(query)"
   ]
  },
  {
   "cell_type": "code",
   "execution_count": null,
   "id": "relevant-force",
   "metadata": {
    "papermill": {
     "duration": null,
     "end_time": null,
     "exception": null,
     "start_time": null,
     "status": "completed"
    },
    "tags": []
   },
   "outputs": [],
   "source": [
    "wavelength=np.array([3543,4770,6231,7625,9134]) # in Angstroem\n",
    "wavelength=wavelength*1e-8 # in cm\n",
    "frequency=3.e10/wavelength # in Hz\n",
    "energy=2*pi*6.67e-16*frequency # in eV\n",
    "factor=1e-24*frequency # conversion of Jy to erg/cm2s\n",
    "\n",
    "def plot_spectrum(qquery):\n",
    "    if qquery==None:\n",
    "        return -1\n",
    "    filters={'u':3543, 'g':4770, 'r': 6231,'i':7625,'z':9134}\n",
    "    # Wavelength (Angstroms)\n",
    "    # Ultraviolet (u) 3543\n",
    "    # Green (g) 4770\n",
    "    # Red (r) 6231\n",
    "    # Near Infrared (i) 7625\n",
    "    # Infrared (z) 9134\n",
    "    plt.figure(figsize=(10,7))\n",
    "    sep=np.array([])\n",
    "    for i in range(len(qquery['run'])):\n",
    "        rai    = qquery['ra'][i]\n",
    "        deci   = qquery['dec'][i]\n",
    "        coordi = SkyCoord(Angle(rai, unit='degree').degree, Angle(deci, unit='degree').degree, unit='deg')\n",
    "        sep=np.append(sep,source.separation(coordi).arcmin)\n",
    "    index=np.argmin(sep)\n",
    "    label=['u','g','r','i','z']\n",
    "    x = np.array([filters[i] for i in label])\n",
    "    y1 = np.array([qquery['psfFlux_'+i][index] for i in label]) # in nanomaggies\n",
    "    y1_err = np.array([qquery['psfFluxIvar_'+i][index] for i in label]) # in nanomaggies\n",
    "    y = y1 * nano_maggies_to_Jy*factor # in Jy\n",
    "    y_err = y1_err * nano_maggies_to_Jy*factor # in Jy\n",
    "    plt.errorbar(energy, y,y_err,color='black',linewidth=4)\n",
    "    plt.xlabel('$E$, [eV]',fontsize=16)\n",
    "    plt.ylabel('$E^2dN/dE$, [erg/(cm$^2$s)]',fontsize=16)\n",
    "    plt.xscale('log')\n",
    "    plt.yscale('log')\n",
    "    plt.xlim(0.1,10)\n",
    "    plt.ylim(y[0]/10.,y[0]*10)\n",
    "    plt.tick_params(axis='both', which='major', labelsize=16)\n",
    "\n",
    "    plt.savefig(\"figs/figure_spectrum.png\")\n",
    "    return 0\n",
    "flag2=plot_spectrum(query)\n",
    "\n",
    "\n"
   ]
  },
  {
   "cell_type": "code",
   "execution_count": null,
   "id": "great-schedule",
   "metadata": {
    "papermill": {
     "duration": null,
     "end_time": null,
     "exception": null,
     "start_time": null,
     "status": "completed"
    },
    "tags": []
   },
   "outputs": [],
   "source": [
    "def plot_time(qquery):\n",
    "    if qquery==None:\n",
    "        return -1\n",
    "    def MJD(t): # Modified Julian Date format\n",
    "        return t/(24*3600)\n",
    "    \n",
    "    \n",
    "    sep=np.array([])\n",
    "    for i in range(len(qquery['ra'])):\n",
    "        sep=np.append(sep,source.separation(SkyCoord(qquery['ra'][i],qquery['dec'][i], unit='deg')).deg)\n",
    "    i_min=[np.argmin(sep),]\n",
    "\n",
    "    thingid=query['thingId'][i_min]\n",
    "\n",
    "    ilist=np.where((query['thingId']==thingid)&((query['mode']==1)|(query['mode']==2)))[0]\n",
    "    print(len(ilist))\n",
    "    i_mode1= np.where(query['mode'][ilist]==1)[0]\n",
    "\n",
    "    plt.figure(figsize=(10,7))\n",
    "    label=['r','i','u','z','g']\n",
    "    colors=['green', 'blue','black','red','magenta']\n",
    "    x = {}\n",
    "    y = {}\n",
    "    y_err= {}\n",
    "    ll=np.array([3543,4770,6231,7625,9134])\n",
    "    conv=1e-24*3e10/(ll/1e8)\n",
    "\n",
    "    tt=[]\n",
    "    ff=[]\n",
    "    ff_err=[]\n",
    "    for ii in ilist:\n",
    "        j=0\n",
    "        for lab in label:\n",
    "            if len(x)<5:\n",
    "                x[lab] = np.array([qquery['TAI_'+lab][ii],])\n",
    "                y[lab] = np.array([qquery['psfFlux_'+lab][ii],])*nano_maggies_to_Jy*conv[j]\n",
    "                y_err[lab] = np.array([qquery['psfFluxIvar_'+lab][ii],])*nano_maggies_to_Jy*conv[j]\n",
    "                tt.append(qquery['TAI_'+lab][ii]/(24*3600))\n",
    "                ff.append(qquery['psfFlux_'+lab][ii]*nano_maggies_to_Jy*factor[j])\n",
    "                ff_err.append(qquery['psfFluxIvar_'+lab][ii]*nano_maggies_to_Jy*factor[j])\n",
    "                print(tt[-1],ff[-1],ff_err[-1])\n",
    "                j+=1\n",
    "\n",
    "            else:\n",
    "                x[lab] = np.concatenate([x[lab], [qquery['TAI_'+lab][ii],]])\n",
    "                y[lab] = np.concatenate([y[lab], [qquery['psfFlux_'+lab][ii],]])*nano_maggies_to_Jy*conv[j]\n",
    "                y_err[lab] = np.concatenate([y[lab], [qquery['psfFluxIvar_'+lab][ii],]])*nano_maggies_to_Jy*conv[j]\n",
    "                tt.append(qquery['TAI_'+lab][ii]/(24*3600))\n",
    "                ff.append(qquery['psfFlux_'+lab][ii]*nano_maggies_to_Jy*factor[j])\n",
    "                ff_err.append(qquery['psfFluxIvar_'+lab][ii]*nano_maggies_to_Jy*factor[j])\n",
    "                print(tt[-1],ff[-1],ff_err[-1])\n",
    "                j+=1\n",
    "\n",
    "    t0 = int(min(tt))\n",
    "    print(t0)\n",
    "    \n",
    "    plt.errorbar(np.array(tt)-t0,ff,yerr=ff_err,color='black',linestyle='none')\n",
    "    plt.scatter(np.array(tt)-t0,ff,color='black')\n",
    "\n",
    "        \n",
    "    plt.xlabel('$t$[MJD]-'+str(t0),fontsize=16)\n",
    "    plt.ylabel('$E^2dN/dE$, erg/(cm$^2$s)', fontsize=16)\n",
    "    plt.yscale('log')\n",
    "    plt.ylim(ff[0]/10.,ff[0]*10)\n",
    "\n",
    "    plt.tick_params(axis='both', which='major', labelsize=16)\n",
    "\n",
    "\n",
    "    plt.savefig(\"figs/figure_time.png\")\n",
    "    return 0\n",
    "flag3=plot_time(query)"
   ]
  },
  {
   "cell_type": "code",
   "execution_count": null,
   "id": "personal-democrat",
   "metadata": {
    "papermill": {
     "duration": null,
     "end_time": null,
     "exception": null,
     "start_time": null,
     "status": "completed"
    },
    "tags": [
     "outputs"
    ]
   },
   "outputs": [],
   "source": [
    "image1_filename = \"./figs/figure_sky.png\"\n",
    "message1 = 'Completed' if flag1==0 else 'Error'\n",
    "image2_filename = \"./figs/figure_spectrum.png\"\n",
    "message2 = 'Completed' if flag2==0 else 'Error'\n",
    "image3_filename = \"./figs/figure_time.png\"\n",
    "message3 = 'Completed' if flag3==0 else 'Error'"
   ]
  },
  {
   "cell_type": "code",
   "execution_count": null,
   "id": "lucky-cookie",
   "metadata": {
    "papermill": {
     "duration": null,
     "end_time": null,
     "exception": null,
     "start_time": null,
     "status": "completed"
    },
    "tags": []
   },
   "outputs": [],
   "source": []
  }
 ],
 "metadata": {
  "celltoolbar": "Tags",
  "kernelspec": {
   "display_name": "Python 3",
   "language": "python",
   "name": "python3"
  },
  "language_info": {
   "codemirror_mode": {
    "name": "ipython",
    "version": 3
   },
   "file_extension": ".py",
   "mimetype": "text/x-python",
   "name": "python",
   "nbconvert_exporter": "python",
   "pygments_lexer": "ipython3",
   "version": "3.7.6"
  },
  "papermill": {
   "default_parameters": {},
   "duration": 3.251413,
   "end_time": "2021-06-11T08:02:27.504595",
   "environment_variables": {},
   "exception": null,
   "input_path": "final-an.ipynb",
   "output_path": "out.ipynb",
   "parameters": {},
   "start_time": "2021-06-11T08:02:24.253182",
   "version": "2.3.1"
  }
 },
 "nbformat": 4,
 "nbformat_minor": 5
}